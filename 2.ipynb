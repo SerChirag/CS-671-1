{
 "cells": [
  {
   "cell_type": "code",
   "execution_count": 9,
   "metadata": {},
   "outputs": [],
   "source": [
    "import numpy as np\n",
    "import tensorflow as tf"
   ]
  },
  {
   "cell_type": "code",
   "execution_count": 10,
   "metadata": {},
   "outputs": [],
   "source": [
    "mass = tf.Variable(np.load('q2_input/masses.npy'))\n",
    "velocity = tf.Variable(np.load('q2_input/velocities.npy'))\n",
    "position = tf.Variable(np.load('q2_input/positions.npy'))\n",
    "epsilon =  tf.cast(tf.constant(10**(-4)), tf.float64)\n",
    "G =  tf.cast(tf.constant(6.67*(10**(5))), tf.float64)\n",
    "time = tf.placeholder(tf.float64)\n",
    "velx = velocity[:,0]\n",
    "vely = velocity[:,1]\n",
    "posx = position[:,0]\n",
    "posy = position[:,1]"
   ]
  },
  {
   "cell_type": "code",
   "execution_count": 11,
   "metadata": {},
   "outputs": [],
   "source": [
    "#For X Direction\n",
    "\n",
    "\"\"\"Gets outer product. \n",
    "Basically a matrix where i,j th colum is difference between pos_x of i and j th particle\n",
    "\"\"\"\n",
    "rx = tf.transpose([posx]) - posx  \n",
    "\n",
    "#Signum Function\n",
    "rdx = -1*tf.math.sign(rx)\n",
    "\n",
    "#Add small value to prevent NaN on inverse\n",
    "rx += epsilon\n",
    "\n",
    "# r ---> -(1/r^2)\n",
    "r2x = rdx * tf.math.reciprocal(tf.math.square(rx))\n",
    "fx = G * tf.multiply(r2x,mass)\n",
    "\n",
    "# Get net acceleration on each particle\n",
    "ax = tf.reduce_sum(fx, 1)\n",
    "\n",
    "# Newton's Equations\n",
    "new_pos_x = posx + velx*time + 0.5*(time**2)*ax\n",
    "new_vel_x = velx + ax*time"
   ]
  },
  {
   "cell_type": "code",
   "execution_count": 12,
   "metadata": {},
   "outputs": [],
   "source": [
    "#For Y Direction\n",
    "\n",
    "ry = tf.transpose([posy]) - posy\n",
    "rdy = -1*tf.math.sign(ry)\n",
    "ry += epsilon\n",
    "r2y = rdy * tf.math.reciprocal(tf.math.square(ry))\n",
    "fy = G * tf.multiply(r2y,mass)\n",
    "ay = tf.reduce_sum(fy, 1)\n",
    "new_pos_y = posy + velx*time + 0.5*(time**2)*ay\n",
    "new_vel_y = vely + ay*time"
   ]
  },
  {
   "cell_type": "code",
   "execution_count": 13,
   "metadata": {},
   "outputs": [
    {
     "name": "stdout",
     "output_type": "stream",
     "text": [
      "[ 3.36946542e+02 -8.60556404e+03  6.78804449e+02  1.36437162e+06\n",
      " -4.93094436e+02  1.96676598e+03  4.92465296e+05  3.47130765e+02\n",
      " -4.21470766e+04 -4.09444532e+02 -7.51738440e+03  2.83404791e+00\n",
      "  4.92403108e+03  2.74386729e+02 -6.57579304e+03 -1.46153668e+04\n",
      "  6.06556870e+01  9.65862418e+03 -1.18898053e+04  5.91642776e+02\n",
      "  3.02149732e+04  2.34454411e+03 -5.11305931e+01 -8.22098575e+01\n",
      "  3.39125663e+03  3.50146987e+03 -3.47429626e+05 -1.30926661e+06\n",
      "  1.59989097e+03  1.92394839e+02  1.15391412e+03 -5.28875525e+01\n",
      "  2.99831537e+02  1.91958411e+06 -2.52385242e+03 -2.36417250e+03\n",
      " -3.67563745e+04  1.23572189e+04 -6.97279804e+02 -2.71700552e+03\n",
      "  1.33061842e+02 -1.80236635e+07  6.20776417e+02 -2.26804769e+02\n",
      "  2.16559796e+03 -8.80275025e+03  1.81806183e+02  7.30428096e+03\n",
      "  9.06336572e+02 -9.70091864e+04 -3.27405955e+03 -8.17285767e+03\n",
      "  1.20445608e+03  2.39262635e+04 -6.03323358e+02  2.45137067e+03\n",
      " -2.75854619e+01 -4.23551854e+03  2.42129647e+05 -2.45106084e+03\n",
      "  2.92967510e+03 -7.02914700e+01  3.97612339e+02 -7.48746968e+04\n",
      " -3.00965180e+02 -6.63807672e+03 -1.03976322e+03 -2.19187357e+04\n",
      "  1.11483959e+04 -2.72549163e+03  5.04724063e+03 -5.48768700e+03\n",
      " -1.69345798e+04  3.59850018e+02  9.36056063e+05  6.74996088e+03\n",
      " -5.67607023e+02  4.67953419e+03  1.93678760e+02  4.93005113e+03\n",
      "  5.04324756e+02  2.46924727e+02 -7.00579759e+04 -3.90792664e+05\n",
      " -1.67294417e+05  1.12858838e+02  3.06177814e+06  1.70564588e+02\n",
      "  1.09941184e+03 -2.89218402e+04  4.65161258e+02  1.27478992e+05\n",
      "  1.40386520e+05 -6.35278870e+02 -9.87516050e+03  5.67498747e+04\n",
      " -6.32679451e+03 -8.37551257e+03  2.75998271e+03 -1.32909276e+03]\n"
     ]
    }
   ],
   "source": [
    "init_g = tf.global_variables_initializer()\n",
    "init_l = tf.local_variables_initializer()\n",
    "with tf.Session() as sess:\n",
    "    sess.run(init_g)\n",
    "    sess.run(init_l) \n",
    "    print(sess.run(new_vel_y, feed_dict={time: 0.001}))\n",
    "    # Need to update with new value"
   ]
  },
  {
   "cell_type": "code",
   "execution_count": null,
   "metadata": {},
   "outputs": [],
   "source": []
  }
 ],
 "metadata": {
  "kernelspec": {
   "display_name": "Python 2",
   "language": "python",
   "name": "python2"
  },
  "language_info": {
   "codemirror_mode": {
    "name": "ipython",
    "version": 2
   },
   "file_extension": ".py",
   "mimetype": "text/x-python",
   "name": "python",
   "nbconvert_exporter": "python",
   "pygments_lexer": "ipython2",
   "version": "2.7.15"
  }
 },
 "nbformat": 4,
 "nbformat_minor": 2
}
