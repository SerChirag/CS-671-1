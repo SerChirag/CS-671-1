{
 "cells": [
  {
   "cell_type": "code",
   "execution_count": 4,
   "metadata": {},
   "outputs": [],
   "source": [
    "import tensorflow as tf\n",
    "import numpy as np\n",
    "mnist = tf.keras.datasets.mnist"
   ]
  },
  {
   "cell_type": "code",
   "execution_count": 32,
   "metadata": {},
   "outputs": [],
   "source": [
    "class layer():\n",
    "    def __init__(self,inputs,units,activation='relu',dropout=False,keep_prob=0.8):\n",
    "        self.inputs = inputs\n",
    "        self.units = units\n",
    "        self.activation = activation\n",
    "        self.dropout = dropout\n",
    "        self.keep_prob = keep_prob\n",
    "        self.b = np.zeros((self.units,1))\n",
    "        self.input_data = 0\n",
    "        self.z = 0\n",
    "        self.a = 0\n",
    "        self.dw = 0\n",
    "        self.db = 0\n",
    "        self.da = 0\n",
    "        self.vel1 = 0\n",
    "        self.vel2 = 0\n",
    "        self.sim1 = 0\n",
    "        self.sim2 = 0\n",
    "        self.__initialize_weight()\n",
    "        \n",
    "        \n",
    "    def __sigmoid(self, x):\n",
    "        \n",
    "        \"\"\"\n",
    "        Computes sigmoid activation.\n",
    "\n",
    "        Parameters\n",
    "        ----------\n",
    "        x : ndarray\n",
    "            Input vector\n",
    "\n",
    "        Returns\n",
    "        -------\n",
    "        ndarray\n",
    "            Output vector with applied activation\n",
    "\n",
    "        \"\"\"\n",
    "        return 1 / (1 + np.exp(-x))\n",
    "\n",
    "    def __initialize_weight(self):\n",
    "        \n",
    "        if(self.activation == 'relu'):\n",
    "            self.w = np.random.rand(self.units,self.inputs) * np.sqrt(2.0/self.inputs)\n",
    "        elif(self.activation == 'tanh'):\n",
    "            self.w = np.random.rand(self.units,self.inputs) * np.sqrt(1.0/self.inputs)\n",
    "        else:\n",
    "            self.w = np.random.rand(self.units,self.inputs) * np.sqrt(2.0/(self.units+self.inputs))\n",
    "            \n",
    "    def __sigmoid_d(self, x):\n",
    "        \n",
    "        return x * (1 - x)\n",
    "    \n",
    "    def __softmax(self,x):\n",
    "        \"\"\"\n",
    "        Computes softmax activation.\n",
    "        \n",
    "        Useful for multi-class classification problems.\n",
    "\n",
    "        Parameters\n",
    "        ----------\n",
    "        x : ndarray\n",
    "            Input vector\n",
    "\n",
    "        Returns\n",
    "        -------\n",
    "        ndarray\n",
    "            Output vector with applied activation\n",
    "\n",
    "        \"\"\"\n",
    "        x = x - np.mean(x)\n",
    "        expx = np.exp(x)\n",
    "        return expx / expx.sum()\n",
    "    \n",
    "    def __tanh(self, x):\n",
    "        \n",
    "        \"\"\"\n",
    "        Computes tanh activation.\n",
    "\n",
    "        Parameters\n",
    "        ----------\n",
    "        x : ndarray\n",
    "            Input vector\n",
    "\n",
    "        Returns\n",
    "        -------\n",
    "        ndarray\n",
    "            Output vector with applied activation\n",
    "\n",
    "        \"\"\"\n",
    "        return 1 / (1 + np.exp(-x))\n",
    "\n",
    "    def __tanh_d(self, x):\n",
    "        return (1 + x) * (1 - x)\n",
    "    \n",
    "    def __relu(self,x):\n",
    "        \"\"\"\n",
    "        Computes sigmoid activation.\n",
    "\n",
    "        Parameters\n",
    "        ----------\n",
    "        x : ndarray\n",
    "            Input vector\n",
    "\n",
    "        Returns\n",
    "        -------\n",
    "        ndarray\n",
    "            Output vector with applied activation\n",
    "\n",
    "        \"\"\"\n",
    "        return np.maximum(0,x) \n",
    "    \n",
    "    def __relu_d(self,x):\n",
    "        x[x<=0] = 0\n",
    "        x[x>0] = 1\n",
    "        return x\n",
    "\n",
    "    def update(self,alpha1,alpha2):\n",
    "        self.w += alpha1\n",
    "        self.b += alpha2\n",
    "    \n",
    "    def forward(self,input_data):\n",
    "        input_data = input_data.reshape((input_data.shape[0],1))\n",
    "        self.input_data = input_data\n",
    "        self.z = np.dot(self.w,input_data) \n",
    "        self.a = self.z\n",
    "        if(self.activation == 'sigmoid'):\n",
    "            self.a = self.__sigmoid(self.a)\n",
    "        elif(self.activation == 'tanh'):\n",
    "            self.a = self.__tanh(self.a)\n",
    "        elif(self.activation == 'relu'):\n",
    "            self.a = self.__relu(self.a)\n",
    "        elif(self.activation == 'softmax'):\n",
    "            self.a = self.__softmax(self.a)\n",
    "        else:\n",
    "            pass\n",
    "        if(self.dropout):\n",
    "            drop = np.random.rand(self.a.shape[0],self.a.shape[1]) < self.keep_prob\n",
    "            self.a = np.multiply(self.a,drop)\n",
    "            self.a /= self.keep_prob\n",
    "        return self.a\n",
    "            \n",
    "    def backward(self,error):\n",
    "        if(self.activation == 'sigmoid'):\n",
    "            self.dz = np.multiply(error,self.__sigmoid_d(self.z))\n",
    "        elif(self.activation == 'tanh'):\n",
    "            self.dz = np.multiply(error,self.__tanh_d(self.z))\n",
    "        elif(self.activation == 'relu'):\n",
    "            self.dz = np.multiply(error,self.__relu_d(self.z))\n",
    "        elif(self.activation == 'softmax'):\n",
    "            self.dz = error\n",
    "        else:\n",
    "            self.dz = 0 * error\n",
    "            \n",
    "        self.dw = np.dot(self.dz, self.input_data.T)\n",
    "        self.db = np.sum(self.dz, axis=1, keepdims=True)\n",
    "        next_error = np.dot(self.w.T, self.dz)\n",
    "        return next_error"
   ]
  },
  {
   "cell_type": "code",
   "execution_count": 29,
   "metadata": {},
   "outputs": [],
   "source": [
    "class model():\n",
    "    def __init__(self,data,data_label,number_of_class,alpha=0.1,optimizer='grad_desc',beta1=0.9,beta2=0.999,accuracy=0.99,max_iteration=100):\n",
    "        self.layers = []\n",
    "        self.alpha = alpha\n",
    "        self.accuracy = accuracy\n",
    "        self.data = data\n",
    "        self.data_label = data_label \n",
    "        self.max_iteration = max_iteration\n",
    "        self.optimizer = optimizer\n",
    "        self.current_acc = 0\n",
    "        self.desired_acc = accuracy\n",
    "        self.number_of_class = number_of_class\n",
    "        self.cm = np.zeros((self.number_of_class,self.number_of_class),dtype=int)\n",
    "        self.eplison = 10**(-4)\n",
    "        self.loss_history = []\n",
    "        self.accuracy_history = []\n",
    "        self.beta1 = beta1 \n",
    "        self.beta2 = beta2\n",
    "        self.iteration = 0\n",
    "        \n",
    "    def add(self,layer):\n",
    "        self.layers.append(layer)\n",
    "    \n",
    "    def train(self):\n",
    "        self.iteration = 0\n",
    "        while((self.iteration < self.max_iteration) and (self.current_acc < self.desired_acc)):\n",
    "            print self.iteration\n",
    "            self.cm = np.zeros((self.number_of_class,self.number_of_class),dtype=int)\n",
    "            self.__do_epoch()\n",
    "            self.__calculate_accuracy()\n",
    "            self.accuracy_history.append(self.current_acc)\n",
    "            print self.current_acc\n",
    "            \n",
    "            self.iteration+=1\n",
    "    \n",
    "    def predict(self,data,data_label):\n",
    "        self.cm = np.zeros((self.number_of_class,self.number_of_class),dtype=int)\n",
    "        for j in range(len(data)):\n",
    "            y_label = data_label[j]\n",
    "            x = data[j]\n",
    "            y = self.__forprop(x)\n",
    "            if(self.number_of_class > 2):\n",
    "                self.cm[y_label.argmax()][y.argmax()] += 1\n",
    "            else:\n",
    "                if(y>0.5):\n",
    "                    self.cm[y_label][1] += 1\n",
    "                else:\n",
    "                    self.cm[y_label][0] += 1\n",
    "        self.__calculate_accuracy()\n",
    "        print self.current_acc\n",
    "\n",
    "    def __calculate_accuracy(self):\n",
    "        self.current_acc = np.trace(self.cm)/(1.0*np.sum(self.cm))\n",
    "\n",
    "    def __update(self):\n",
    "        for layer in self.layers:\n",
    "#             if(self.optimizer == 'ADAM'):\n",
    "                \n",
    "            if(self.optimizer == 'grad_desc_mom'):\n",
    "                layer.vel1 = self.beta1 * layer.vel1 + self.alpha * layer.dw\n",
    "                layer.vel2 = self.beta1 * layer.vel2 + self.alpha * layer.db\n",
    "                layer.update(layer.vel1,layer.vel2)\n",
    "                \n",
    "            elif(self.optimizer == 'Adagrad'):\n",
    "                layer.sim1 += np.square(layer.dw)\n",
    "                layer.sim2 += np.square(layer.db)\n",
    "                alpha1 = (self.alpha*layer.dw)/(np.sqrt(layer.sim1+self.eplison))\n",
    "                alpha2 = (self.alpha*layer.db)/(np.sqrt(layer.sim2+self.eplison))\n",
    "                layer.update(alpha1,alpha2)\n",
    "                \n",
    "            elif(self.optimizer == 'RMS'):\n",
    "                layer.sim1 = (self.beta1 * layer.sim1) + ((1-self.beta1)*np.square(layer.dw))\n",
    "                layer.sim2 = (self.beta1 * layer.sim2) + ((1-self.beta1)*np.square(layer.db))\n",
    "                alpha1 = (self.alpha*layer.dw)/(np.sqrt(layer.sim1+self.eplison))\n",
    "                alpha2 = (self.alpha*layer.db)/(np.sqrt(layer.sim2+self.eplison))\n",
    "                layer.update(alpha1,alpha2)\n",
    "                \n",
    "            elif(self.optimizer == 'Adam'):\n",
    "                layer.vel1 = (self.beta1 * layer.vel1) + ((1-self.beta1)*layer.dw)\n",
    "                layer.vel2 = (self.beta1 * layer.vel2) + ((1-self.beta1)*layer.db)\n",
    "                layer.sim1 = (self.beta2 * layer.sim1) + ((1-self.beta2)*np.square(layer.dw))\n",
    "                layer.sim2 = (self.beta2 * layer.sim2) + ((1-self.beta2)*np.square(layer.db))\n",
    "                corrected_vel1 = layer.vel1/(np.power(1-self.beta1,2))\n",
    "                corrected_vel2 = layer.vel2/(np.power(1-self.beta1,2))\n",
    "                corrected_sim1 = layer.sim1/(np.power(1-self.beta2,2))\n",
    "                corrected_sim2 = layer.sim2/(np.power(1-self.beta2,2))\n",
    "                alpha1 = (self.alpha*corrected_vel1)/(np.sqrt(corrected_sim1+self.eplison))\n",
    "                alpha2 = (self.alpha*corrected_vel2)/(np.sqrt(corrected_sim2+self.eplison))\n",
    "                layer.update(alpha1,alpha2)\n",
    "            \n",
    "            else:\n",
    "                alpha1 = layer.dw * self.alpha \n",
    "                alpha2 = layer.db * self.alpha\n",
    "                layer.update(alpha1,alpha2)\n",
    "       \n",
    "    def __get_cost(self,y,y_label):\n",
    "        if(self.number_of_class > 2):\n",
    "            y_label = y_label.reshape((y_label.shape[0],1))\n",
    "            index = y_label.argmax()\n",
    "            cost = -1*np.log(y[index] + self.eplison)\n",
    "            return (y_label - y),cost\n",
    "        else:\n",
    "            if (y_label == 1):\n",
    "                return -1*np.log(y + self.eplison),-1*np.log(1 - y + self.eplison)\n",
    "            else:\n",
    "                return -1*np.log(1 - y + self.eplison),-1*np.log(1 - y + self.eplison)\n",
    "                    \n",
    "    def __do_epoch(self):\n",
    "        total_cost = 0\n",
    "        for j in range(len(self.data)):\n",
    "            y_label = self.data_label[j]\n",
    "            x = self.data[j]\n",
    "            y = self.__forprop(x)\n",
    "            loss,cost = self.__get_cost(y,y_label)\n",
    "            total_cost += cost[0]\n",
    "            if(self.number_of_class > 2):\n",
    "                self.cm[y_label.argmax()][y.argmax()] += 1\n",
    "            else:\n",
    "                if(y>0.5):\n",
    "                    self.cm[y_label][1] += 1\n",
    "                else:\n",
    "                    self.cm[y_label][0] += 1\n",
    "            self.__backprop(loss)\n",
    "            self.__update()\n",
    "        total_cost/=len(self.data)\n",
    "        self.loss_history.append(total_cost)\n",
    "            \n",
    "    def __forprop(self,sample):\n",
    "        for layer in self.layers:\n",
    "            sample = layer.forward(sample)\n",
    "        return sample       \n",
    "    \n",
    "    def __backprop(self,loss):\n",
    "        sample = loss\n",
    "        for i in range(len(self.layers)-1,-1,-1):\n",
    "            sample = self.layers[i].backward(sample)\n",
    "        "
   ]
  },
  {
   "cell_type": "code",
   "execution_count": 11,
   "metadata": {},
   "outputs": [],
   "source": [
    "(x_train, y_train_label),(x_test, y_test_label) = mnist.load_data()\n",
    "x_train, x_test = x_train / 255.0, x_test / 255.0"
   ]
  },
  {
   "cell_type": "code",
   "execution_count": 12,
   "metadata": {},
   "outputs": [],
   "source": [
    "x_train = x_train.reshape([60000,784])\n",
    "x_test = x_test.reshape([10000,784])\n",
    "y_train = np.zeros((y_train_label.shape[0], 10))\n",
    "y_train[np.arange(y_train_label.shape[0]), y_train_label] = 1\n",
    "y_test = np.zeros((y_test_label.shape[0], 10))\n",
    "y_test[np.arange(y_test_label.shape[0]), y_test_label] = 1"
   ]
  },
  {
   "cell_type": "code",
   "execution_count": 14,
   "metadata": {},
   "outputs": [
    {
     "name": "stdout",
     "output_type": "stream",
     "text": [
      "0\n",
      "0.7856166666666666\n",
      "1\n",
      "0.91005\n",
      "2\n",
      "0.92725\n",
      "3\n",
      "0.9399833333333333\n",
      "4\n",
      "0.9498833333333333\n",
      "5\n",
      "0.95715\n",
      "6\n",
      "0.9629166666666666\n",
      "7\n",
      "0.9678\n",
      "8\n",
      "0.9714666666666667\n",
      "9\n",
      "0.9747166666666667\n",
      "10\n",
      "0.9776\n",
      "11\n",
      "0.9797333333333333\n",
      "12\n",
      "0.9817166666666667\n",
      "13\n",
      "0.9836833333333334\n",
      "14\n",
      "0.9850166666666667\n",
      "15\n",
      "0.9866833333333334\n",
      "16\n",
      "0.9877666666666667\n",
      "17\n",
      "0.9892333333333333\n",
      "18\n",
      "0.99055\n",
      "0.9741\n"
     ]
    }
   ],
   "source": [
    "nn = model(x_train,y_train,10,alpha=0.001,accuracy=0.99)\n",
    "layer1 = layer(784,196)\n",
    "layer2 = layer(196,58)\n",
    "layer3 = layer(58,10,activation='softmax')\n",
    "nn.add(layer1)\n",
    "nn.add(layer2)\n",
    "nn.add(layer3)\n",
    "nn.train()\n",
    "nn.predict(x_test,y_test)"
   ]
  },
  {
   "cell_type": "code",
   "execution_count": 20,
   "metadata": {},
   "outputs": [],
   "source": [
    "nn.accuracy_history = [0.7856166666666666,0.91005,0.92725,0.9399833333333333,0.9498833333333333,0.95715,0.9629166666666666,0.9678,0.9714666666666667,0.9714666666666667,0.9776,0.9797333333333333,0.9817166666666667,0.9817166666666667,0.9836833333333334,0.9850166666666667,0.9866833333333334,0.9877666666666667,0.9892333333333333,0.9892333333333333]"
   ]
  },
  {
   "cell_type": "code",
   "execution_count": 23,
   "metadata": {},
   "outputs": [
    {
     "data": {
      "text/plain": [
       "20"
      ]
     },
     "execution_count": 23,
     "metadata": {},
     "output_type": "execute_result"
    }
   ],
   "source": [
    "len(nn.accuracy_history)"
   ]
  },
  {
   "cell_type": "code",
   "execution_count": 25,
   "metadata": {},
   "outputs": [
    {
     "name": "stdout",
     "output_type": "stream",
     "text": [
      "[[ 965    0    1    2    1    4    2    2    1    2]\n",
      " [   0 1127    0    1    0    1    2    2    2    0]\n",
      " [   5    4 1000    5    5    0    4    2    6    1]\n",
      " [   0    1    3  975    0   15    0    4    5    7]\n",
      " [   0    0    1    0  967    0    5    1    1    7]\n",
      " [   3    0    0    3    1  876    2    1    4    2]\n",
      " [   4    3    1    0    5   23  920    0    2    0]\n",
      " [   0    5    7    4    3    1    0  998    0   10]\n",
      " [   4    0    2    6    3   12    3    3  933    8]\n",
      " [   2    3    0    4   10    6    0    3    1  980]]\n"
     ]
    }
   ],
   "source": [
    "print nn.cm"
   ]
  },
  {
   "cell_type": "code",
   "execution_count": 34,
   "metadata": {},
   "outputs": [
    {
     "name": "stdout",
     "output_type": "stream",
     "text": [
      "0\n",
      "0.7075\n",
      "1\n",
      "0.86605\n",
      "2\n",
      "0.8882666666666666\n",
      "3\n",
      "0.8996\n",
      "4\n",
      "0.90745\n",
      "5\n",
      "0.9123\n",
      "6\n",
      "0.9177166666666666\n",
      "7\n",
      "0.9204666666666667\n",
      "8\n",
      "0.9222333333333333\n",
      "9\n",
      "0.9256\n",
      "10\n",
      "0.9258833333333333\n",
      "11\n",
      "0.9288833333333333\n",
      "12\n",
      "0.9299666666666667\n",
      "13\n",
      "0.9289666666666667\n",
      "14\n",
      "0.9318666666666666\n",
      "0.9741\n"
     ]
    }
   ],
   "source": [
    "## Classifier with Dropout\n",
    "\n",
    "mm = model(x_train,y_train,10,alpha=0.001,accuracy=0.93)\n",
    "mayer1 = layer(784,196,dropout=True,keep_prob=0.75)\n",
    "mayer2 = layer(196,58,dropout=True,keep_prob=0.9)\n",
    "mayer3 = layer(58,10,activation='softmax')\n",
    "mm.add(mayer1)\n",
    "mm.add(mayer2)\n",
    "mm.add(mayer3)\n",
    "mm.train()\n",
    "nn.predict(x_test,y_test)"
   ]
  },
  {
   "cell_type": "code",
   "execution_count": 35,
   "metadata": {},
   "outputs": [
    {
     "name": "stdout",
     "output_type": "stream",
     "text": [
      "0.934\n"
     ]
    }
   ],
   "source": [
    "mm.predict(x_test,y_test)"
   ]
  },
  {
   "cell_type": "code",
   "execution_count": 37,
   "metadata": {},
   "outputs": [],
   "source": [
    "%matplotlib inline\n",
    "\n",
    "import matplotlib\n",
    "import matplotlib.pyplot as plt\n"
   ]
  },
  {
   "cell_type": "code",
   "execution_count": 48,
   "metadata": {},
   "outputs": [
    {
     "data": {
      "text/plain": [
       "Text(0,0.5,'Training Accuracy')"
      ]
     },
     "execution_count": 48,
     "metadata": {},
     "output_type": "execute_result"
    },
    {
     "data": {
      "image/png": "[encoded data removed]",
      "text/plain": [
       "<Figure size 432x288 with 1 Axes>"
      ]
     },
     "metadata": {},
     "output_type": "display_data"
    }
   ],
   "source": [
    "fig = plt.figure()\n",
    "plt.plot(nn.accuracy_history[:15],label='No Droupout')\n",
    "plt.plot(mm.accuracy_history,label='Droupout')\n",
    "fig.suptitle('Training Accuracy vs Epochs', fontsize=20)\n",
    "fig.legend(loc='lower right')\n",
    "plt.xlabel('Number of epochs', fontsize=12)\n",
    "plt.ylabel('Training Accuracy', fontsize=12)"
   ]
  },
  {
   "cell_type": "code",
   "execution_count": 41,
   "metadata": {},
   "outputs": [
    {
     "data": {
      "text/plain": [
       "Text(0,0.5,'Loss')"
      ]
     },
     "execution_count": 41,
     "metadata": {},
     "output_type": "execute_result"
    },
    {
     "data": {
      "image/png": "[encoded data removed]",
      "text/plain": [
       "<Figure size 432x288 with 1 Axes>"
      ]
     },
     "metadata": {},
     "output_type": "display_data"
    }
   ],
   "source": [
    "fig = plt.figure()\n",
    "plt.plot(mm.loss_history)\n",
    "fig.suptitle('Loss vs Epochs', fontsize=20)\n",
    "plt.xlabel('Number of epochs', fontsize=12)\n",
    "plt.ylabel('Loss', fontsize=12)"
   ]
  },
  {
   "cell_type": "code",
   "execution_count": 49,
   "metadata": {},
   "outputs": [
    {
     "name": "stdout",
     "output_type": "stream",
     "text": [
      "0\n",
      "0.9353666666666667\n",
      "1\n",
      "0.9699333333333333\n",
      "2\n",
      "0.9774666666666667\n",
      "3\n",
      "0.9822166666666666\n",
      "4\n",
      "0.9845333333333334\n",
      "5\n",
      "0.9873833333333333\n",
      "6\n"
     ]
    },
    {
     "ename": "KeyboardInterrupt",
     "evalue": "",
     "output_type": "error",
     "traceback": [
      "\u001b[0;31m---------------------------------------------------------------------------\u001b[0m",
      "\u001b[0;31mKeyboardInterrupt\u001b[0m                         Traceback (most recent call last)",
      "\u001b[0;32m<ipython-input-49-882047fbc233>\u001b[0m in \u001b[0;36m<module>\u001b[0;34m()\u001b[0m\n\u001b[1;32m      6\u001b[0m \u001b[0mmm\u001b[0m\u001b[0;34m.\u001b[0m\u001b[0madd\u001b[0m\u001b[0;34m(\u001b[0m\u001b[0mmayer2\u001b[0m\u001b[0;34m)\u001b[0m\u001b[0;34m\u001b[0m\u001b[0m\n\u001b[1;32m      7\u001b[0m \u001b[0mmm\u001b[0m\u001b[0;34m.\u001b[0m\u001b[0madd\u001b[0m\u001b[0;34m(\u001b[0m\u001b[0mmayer3\u001b[0m\u001b[0;34m)\u001b[0m\u001b[0;34m\u001b[0m\u001b[0m\n\u001b[0;32m----> 8\u001b[0;31m \u001b[0mmm\u001b[0m\u001b[0;34m.\u001b[0m\u001b[0mtrain\u001b[0m\u001b[0;34m(\u001b[0m\u001b[0;34m)\u001b[0m\u001b[0;34m\u001b[0m\u001b[0m\n\u001b[0m",
      "\u001b[0;32m<ipython-input-29-123f169a3769>\u001b[0m in \u001b[0;36mtrain\u001b[0;34m(self)\u001b[0m\n\u001b[1;32m     27\u001b[0m             \u001b[0;32mprint\u001b[0m \u001b[0mself\u001b[0m\u001b[0;34m.\u001b[0m\u001b[0miteration\u001b[0m\u001b[0;34m\u001b[0m\u001b[0m\n\u001b[1;32m     28\u001b[0m             \u001b[0mself\u001b[0m\u001b[0;34m.\u001b[0m\u001b[0mcm\u001b[0m \u001b[0;34m=\u001b[0m \u001b[0mnp\u001b[0m\u001b[0;34m.\u001b[0m\u001b[0mzeros\u001b[0m\u001b[0;34m(\u001b[0m\u001b[0;34m(\u001b[0m\u001b[0mself\u001b[0m\u001b[0;34m.\u001b[0m\u001b[0mnumber_of_class\u001b[0m\u001b[0;34m,\u001b[0m\u001b[0mself\u001b[0m\u001b[0;34m.\u001b[0m\u001b[0mnumber_of_class\u001b[0m\u001b[0;34m)\u001b[0m\u001b[0;34m,\u001b[0m\u001b[0mdtype\u001b[0m\u001b[0;34m=\u001b[0m\u001b[0mint\u001b[0m\u001b[0;34m)\u001b[0m\u001b[0;34m\u001b[0m\u001b[0m\n\u001b[0;32m---> 29\u001b[0;31m             \u001b[0mself\u001b[0m\u001b[0;34m.\u001b[0m\u001b[0m__do_epoch\u001b[0m\u001b[0;34m(\u001b[0m\u001b[0;34m)\u001b[0m\u001b[0;34m\u001b[0m\u001b[0m\n\u001b[0m\u001b[1;32m     30\u001b[0m             \u001b[0mself\u001b[0m\u001b[0;34m.\u001b[0m\u001b[0m__calculate_accuracy\u001b[0m\u001b[0;34m(\u001b[0m\u001b[0;34m)\u001b[0m\u001b[0;34m\u001b[0m\u001b[0m\n\u001b[1;32m     31\u001b[0m             \u001b[0mself\u001b[0m\u001b[0;34m.\u001b[0m\u001b[0maccuracy_history\u001b[0m\u001b[0;34m.\u001b[0m\u001b[0mappend\u001b[0m\u001b[0;34m(\u001b[0m\u001b[0mself\u001b[0m\u001b[0;34m.\u001b[0m\u001b[0mcurrent_acc\u001b[0m\u001b[0;34m)\u001b[0m\u001b[0;34m\u001b[0m\u001b[0m\n",
      "\u001b[0;32m<ipython-input-29-123f169a3769>\u001b[0m in \u001b[0;36m__do_epoch\u001b[0;34m(self)\u001b[0m\n\u001b[1;32m    122\u001b[0m                     \u001b[0mself\u001b[0m\u001b[0;34m.\u001b[0m\u001b[0mcm\u001b[0m\u001b[0;34m[\u001b[0m\u001b[0my_label\u001b[0m\u001b[0;34m]\u001b[0m\u001b[0;34m[\u001b[0m\u001b[0;36m0\u001b[0m\u001b[0;34m]\u001b[0m \u001b[0;34m+=\u001b[0m \u001b[0;36m1\u001b[0m\u001b[0;34m\u001b[0m\u001b[0m\n\u001b[1;32m    123\u001b[0m             \u001b[0mself\u001b[0m\u001b[0;34m.\u001b[0m\u001b[0m__backprop\u001b[0m\u001b[0;34m(\u001b[0m\u001b[0mloss\u001b[0m\u001b[0;34m)\u001b[0m\u001b[0;34m\u001b[0m\u001b[0m\n\u001b[0;32m--> 124\u001b[0;31m             \u001b[0mself\u001b[0m\u001b[0;34m.\u001b[0m\u001b[0m__update\u001b[0m\u001b[0;34m(\u001b[0m\u001b[0;34m)\u001b[0m\u001b[0;34m\u001b[0m\u001b[0m\n\u001b[0m\u001b[1;32m    125\u001b[0m         \u001b[0mtotal_cost\u001b[0m\u001b[0;34m/=\u001b[0m\u001b[0mlen\u001b[0m\u001b[0;34m(\u001b[0m\u001b[0mself\u001b[0m\u001b[0;34m.\u001b[0m\u001b[0mdata\u001b[0m\u001b[0;34m)\u001b[0m\u001b[0;34m\u001b[0m\u001b[0m\n\u001b[1;32m    126\u001b[0m         \u001b[0mself\u001b[0m\u001b[0;34m.\u001b[0m\u001b[0mloss_history\u001b[0m\u001b[0;34m.\u001b[0m\u001b[0mappend\u001b[0m\u001b[0;34m(\u001b[0m\u001b[0mtotal_cost\u001b[0m\u001b[0;34m)\u001b[0m\u001b[0;34m\u001b[0m\u001b[0m\n",
      "\u001b[0;32m<ipython-input-29-123f169a3769>\u001b[0m in \u001b[0;36m__update\u001b[0;34m(self)\u001b[0m\n\u001b[1;32m     74\u001b[0m                 \u001b[0malpha1\u001b[0m \u001b[0;34m=\u001b[0m \u001b[0;34m(\u001b[0m\u001b[0mself\u001b[0m\u001b[0;34m.\u001b[0m\u001b[0malpha\u001b[0m\u001b[0;34m*\u001b[0m\u001b[0mlayer\u001b[0m\u001b[0;34m.\u001b[0m\u001b[0mdw\u001b[0m\u001b[0;34m)\u001b[0m\u001b[0;34m/\u001b[0m\u001b[0;34m(\u001b[0m\u001b[0mnp\u001b[0m\u001b[0;34m.\u001b[0m\u001b[0msqrt\u001b[0m\u001b[0;34m(\u001b[0m\u001b[0mlayer\u001b[0m\u001b[0;34m.\u001b[0m\u001b[0msim1\u001b[0m\u001b[0;34m+\u001b[0m\u001b[0mself\u001b[0m\u001b[0;34m.\u001b[0m\u001b[0meplison\u001b[0m\u001b[0;34m)\u001b[0m\u001b[0;34m)\u001b[0m\u001b[0;34m\u001b[0m\u001b[0m\n\u001b[1;32m     75\u001b[0m                 \u001b[0malpha2\u001b[0m \u001b[0;34m=\u001b[0m \u001b[0;34m(\u001b[0m\u001b[0mself\u001b[0m\u001b[0;34m.\u001b[0m\u001b[0malpha\u001b[0m\u001b[0;34m*\u001b[0m\u001b[0mlayer\u001b[0m\u001b[0;34m.\u001b[0m\u001b[0mdb\u001b[0m\u001b[0;34m)\u001b[0m\u001b[0;34m/\u001b[0m\u001b[0;34m(\u001b[0m\u001b[0mnp\u001b[0m\u001b[0;34m.\u001b[0m\u001b[0msqrt\u001b[0m\u001b[0;34m(\u001b[0m\u001b[0mlayer\u001b[0m\u001b[0;34m.\u001b[0m\u001b[0msim2\u001b[0m\u001b[0;34m+\u001b[0m\u001b[0mself\u001b[0m\u001b[0;34m.\u001b[0m\u001b[0meplison\u001b[0m\u001b[0;34m)\u001b[0m\u001b[0;34m)\u001b[0m\u001b[0;34m\u001b[0m\u001b[0m\n\u001b[0;32m---> 76\u001b[0;31m                 \u001b[0mlayer\u001b[0m\u001b[0;34m.\u001b[0m\u001b[0mupdate\u001b[0m\u001b[0;34m(\u001b[0m\u001b[0malpha1\u001b[0m\u001b[0;34m,\u001b[0m\u001b[0malpha2\u001b[0m\u001b[0;34m)\u001b[0m\u001b[0;34m\u001b[0m\u001b[0m\n\u001b[0m\u001b[1;32m     77\u001b[0m \u001b[0;34m\u001b[0m\u001b[0m\n\u001b[1;32m     78\u001b[0m             \u001b[0;32melif\u001b[0m\u001b[0;34m(\u001b[0m\u001b[0mself\u001b[0m\u001b[0;34m.\u001b[0m\u001b[0moptimizer\u001b[0m \u001b[0;34m==\u001b[0m \u001b[0;34m'Adam'\u001b[0m\u001b[0;34m)\u001b[0m\u001b[0;34m:\u001b[0m\u001b[0;34m\u001b[0m\u001b[0m\n",
      "\u001b[0;31mKeyboardInterrupt\u001b[0m: "
     ]
    }
   ],
   "source": [
    "#Classifier with RMS Prop\n",
    "\n",
    "mm = model(x_train,y_train,10,alpha=0.001,accuracy=0.99,optimizer='RMS')\n",
    "mayer1 = layer(784,196)\n",
    "mayer2 = layer(196,58)\n",
    "mayer3 = layer(58,10,activation='softmax')\n",
    "mm.add(mayer1)\n",
    "mm.add(mayer2)\n",
    "mm.add(mayer3)\n",
    "mm.train()"
   ]
  },
  {
   "cell_type": "code",
   "execution_count": 51,
   "metadata": {},
   "outputs": [
    {
     "data": {
      "text/plain": [
       "Text(0,0.5,'Training Accuracy')"
      ]
     },
     "execution_count": 51,
     "metadata": {},
     "output_type": "execute_result"
    },
    {
     "data": {
      "image/png": "[encoded data removed]",
      "text/plain": [
       "<Figure size 432x288 with 1 Axes>"
      ]
     },
     "metadata": {},
     "output_type": "display_data"
    }
   ],
   "source": [
    "fig = plt.figure()\n",
    "plt.plot(nn.accuracy_history[:15],label='Gradient Descent')\n",
    "plt.plot(mm.accuracy_history,label='RMS Prop')\n",
    "fig.suptitle('Training Accuracy vs Epochs', fontsize=20)\n",
    "fig.legend(loc='lower right')\n",
    "plt.xlabel('Number of epochs', fontsize=12)\n",
    "plt.ylabel('Training Accuracy', fontsize=12)"
   ]
  },
  {
   "cell_type": "code",
   "execution_count": null,
   "metadata": {},
   "outputs": [],
   "source": []
  }
 ],
 "metadata": {
  "kernelspec": {
   "display_name": "Python 2",
   "language": "python",
   "name": "python2"
  },
  "language_info": {
   "codemirror_mode": {
    "name": "ipython",
    "version": 2
   },
   "file_extension": ".py",
   "mimetype": "text/x-python",
   "name": "python",
   "nbconvert_exporter": "python",
   "pygments_lexer": "ipython2",
   "version": "2.7.15"
  }
 },
 "nbformat": 4,
 "nbformat_minor": 2
}
